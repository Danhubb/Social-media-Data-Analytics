{
 "cells": [
  {
   "cell_type": "code",
   "execution_count": 1,
   "id": "83c1fa7e-e7cc-475b-a05f-4137a68832bd",
   "metadata": {},
   "outputs": [
    {
     "ename": "ModuleNotFoundError",
     "evalue": "No module named 'snscrape'",
     "output_type": "error",
     "traceback": [
      "\u001b[1;31m---------------------------------------------------------------------------\u001b[0m",
      "\u001b[1;31mModuleNotFoundError\u001b[0m                       Traceback (most recent call last)",
      "Cell \u001b[1;32mIn[1], line 2\u001b[0m\n\u001b[0;32m      1\u001b[0m \u001b[38;5;28;01mimport\u001b[39;00m \u001b[38;5;21;01mpandas\u001b[39;00m \u001b[38;5;28;01mas\u001b[39;00m \u001b[38;5;21;01mpd\u001b[39;00m\n\u001b[1;32m----> 2\u001b[0m \u001b[38;5;28;01mimport\u001b[39;00m \u001b[38;5;21;01msnscrape\u001b[39;00m\u001b[38;5;21;01m.\u001b[39;00m\u001b[38;5;21;01mmodules\u001b[39;00m\u001b[38;5;21;01m.\u001b[39;00m\u001b[38;5;21;01mtwitter\u001b[39;00m \u001b[38;5;28;01mas\u001b[39;00m \u001b[38;5;21;01msntwitter\u001b[39;00m\n\u001b[0;32m      3\u001b[0m \u001b[38;5;28;01mimport\u001b[39;00m \u001b[38;5;21;01mre\u001b[39;00m\n\u001b[0;32m      4\u001b[0m \u001b[38;5;28;01mimport\u001b[39;00m \u001b[38;5;21;01mstring\u001b[39;00m\n",
      "\u001b[1;31mModuleNotFoundError\u001b[0m: No module named 'snscrape'"
     ]
    }
   ],
   "source": [
    "import pandas as pd\n",
    "import snscrape.modules.twitter as sntwitter\n",
    "import re\n",
    "import string\n",
    "import matplotlib.pyplot as plt\n",
    "from textblob import TextBlob\n",
    "\n",
    "query = \"(#30DaysOfLearning OR #NG30DaysOfLearning) until:2022-06-26 since:2022-05-05\"\n",
    "tweets = []\n",
    "limit = 300  \n",
    "\n",
    "for tweet in sntwitter.TwitterHashtagScraper(query).get_items():\n",
    "    if len(tweets) == limit:\n",
    "        break\n",
    "    else:\n",
    "        tweets.append([tweet.date, tweet.url, tweet.user.username, tweet.sourceLabel, tweet.user.location, \n",
    "                       tweet.content, tweet.likeCount, tweet.retweetCount, tweet.quoteCount, tweet.replyCount])\n",
    "\n",
    "\n",
    "df = pd.DataFrame(tweets, columns=['Date', 'TweetURL', 'User ', 'Source', 'Location', 'Tweet', \n",
    "                                    'Likes_Count', 'Retweet_Count', 'Quote_Count', 'Reply_Count'])\n",
    "\n",
    "\n",
    "def clean_tweet(tweet):\n",
    "    tweet = re.sub(r'http\\S+', '', tweet)  # Remove URLs\n",
    "    tweet = re.sub(r'#\\w+', '', tweet)     # Remove hashtags\n",
    "    tweet = re.sub(r'@\\w+', '', tweet)     # Remove mentions\n",
    "    tweet = tweet.translate(str.maketrans('', '', string.punctuation))  # Remove punctuation\n",
    "    tweet = tweet.lower()  # Convert to lowercase\n",
    "    return tweet\n",
    "\n",
    "df['Cleaned_Tweet'] = df['Tweet'].apply(clean_tweet)\n",
    "\n",
    "\n",
    "def get_sentiment(tweet):\n",
    "    return TextBlob(tweet).sentiment.polarity\n",
    "\n",
    "df['Sentiment'] = df['Cleaned_Tweet'].apply(get_sentiment)\n",
    "\n",
    "\n",
    "print(df.describe())\n",
    "\n",
    "\n",
    "active_users = df['User '].value_counts()\n",
    "print(active_users.head(10))  \n",
    "\n",
    "plt.figure(figsize=(10, 6))\n",
    "active_users.head(10).plot(kind='bar', color='skyblue')\n",
    "plt.title('Top 10 Active Users')\n",
    "plt.xlabel('Users')\n",
    "plt.ylabel('Number of Tweets')\n",
    "plt.xticks(rotation=45)\n",
    "plt.show()\n",
    "\n",
    "\n",
    "plt.figure(figsize=(10, 6))\n",
    "df['Sentiment'].hist(bins=20, color='lightgreen')\n",
    "plt.title('Sentiment Distribution')\n",
    "plt.xlabel('Sentiment Score')\n",
    "plt.ylabel('Frequency')\n",
    "plt.grid(axis='y')\n",
    "plt.show()"
   ]
  },
  {
   "cell_type": "code",
   "execution_count": null,
   "id": "b9629145-18d0-4305-91fe-daa561cd4cd5",
   "metadata": {},
   "outputs": [],
   "source": []
  }
 ],
 "metadata": {
  "kernelspec": {
   "display_name": "Python 3 (ipykernel)",
   "language": "python",
   "name": "python3"
  },
  "language_info": {
   "codemirror_mode": {
    "name": "ipython",
    "version": 3
   },
   "file_extension": ".py",
   "mimetype": "text/x-python",
   "name": "python",
   "nbconvert_exporter": "python",
   "pygments_lexer": "ipython3",
   "version": "3.12.4"
  }
 },
 "nbformat": 4,
 "nbformat_minor": 5
}
